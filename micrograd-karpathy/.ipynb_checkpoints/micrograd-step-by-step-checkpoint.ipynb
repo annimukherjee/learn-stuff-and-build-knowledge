{
 "cells": [
  {
   "cell_type": "markdown",
   "metadata": {},
   "source": [
    "Autograd Engine.\n",
    "\n",
    "Implements Backprop.\n",
    "\n",
    "Backprop allows you to effenciently eval the gradient of a loss function with respect to the weights of a NN.\n",
    "\n",
    "We can iteratively tune the weights of the NN to minimise the loss function and improve the accuracy of the network.\n",
    "\n",
    "It is at the code of PyTorch / JAX\n",
    "\n"
   ]
  },
  {
   "cell_type": "code",
   "execution_count": null,
   "metadata": {
    "vscode": {
     "languageId": "plaintext"
    }
   },
   "outputs": [],
   "source": []
  }
 ],
 "metadata": {
  "language_info": {
   "name": "python"
  }
 },
 "nbformat": 4,
 "nbformat_minor": 2
}
